{
 "cells": [
  {
   "cell_type": "markdown",
   "metadata": {
    "colab_type": "text",
    "id": "8F9-8GqxVkVv"
   },
   "source": [
    "# Assignment\n",
    "\n",
    "Implementare uno script di classificazione basato sul fine tuning di feature neurali.\n",
    "\n",
    "Verificare l'impatto sulle performance dato da:\n",
    "- Una diversa architettura\n",
    "- Operazioni di data augmentation"
   ]
  },
  {
   "cell_type": "markdown",
   "metadata": {
    "colab_type": "text",
    "id": "Pmb2-QJ0VFVi"
   },
   "source": [
    "# Caricamento librerie e dati"
   ]
  },
  {
   "cell_type": "markdown",
   "metadata": {
    "colab_type": "text",
    "id": "WhBHKZ-wVJmH"
   },
   "source": [
    "## Import librerie"
   ]
  },
  {
   "cell_type": "code",
   "execution_count": 1,
   "metadata": {
    "colab": {
     "base_uri": "https://localhost:8080/",
     "height": 0
    },
    "colab_type": "code",
    "id": "vYgLHnsSdIqO",
    "outputId": "fd95fa5a-05ca-48b9-8748-6bf1b4b557c7"
   },
   "outputs": [
    {
     "name": "stdout",
     "output_type": "stream",
     "text": [
      "TensorFlow 2.x selected.\n"
     ]
    }
   ],
   "source": [
    "# Google Colab tensorflow_version\n",
    "%tensorflow_version 2.x"
   ]
  },
  {
   "cell_type": "code",
   "execution_count": 0,
   "metadata": {
    "colab": {},
    "colab_type": "code",
    "id": "pXyF_b_6sYNg"
   },
   "outputs": [],
   "source": [
    "!pip install -q keras==2.3.0"
   ]
  },
  {
   "cell_type": "code",
   "execution_count": 3,
   "metadata": {
    "colab": {
     "base_uri": "https://localhost:8080/",
     "height": 0
    },
    "colab_type": "code",
    "id": "dczpPF0adTJl",
    "outputId": "218d5660-0ee0-4d06-c6d6-ddb7c6158027"
   },
   "outputs": [
    {
     "name": "stderr",
     "output_type": "stream",
     "text": [
      "Using TensorFlow backend.\n"
     ]
    },
    {
     "name": "stdout",
     "output_type": "stream",
     "text": [
      "2.3.0\n"
     ]
    }
   ],
   "source": [
    "import keras\n",
    "print(keras.__version__)"
   ]
  },
  {
   "cell_type": "code",
   "execution_count": 0,
   "metadata": {
    "colab": {},
    "colab_type": "code",
    "id": "xsPl0poKJFnc"
   },
   "outputs": [],
   "source": [
    "from keras.applications import resnet_v2\n",
    "from keras.applications import mobilenet_v2\n",
    "from keras.preprocessing import image as kimage\n",
    "from keras.models import Model, load_model\n",
    "from keras.layers import Dense\n",
    "from keras import optimizers"
   ]
  },
  {
   "cell_type": "code",
   "execution_count": 0,
   "metadata": {
    "colab": {},
    "colab_type": "code",
    "id": "QWLZfGNuUQP9"
   },
   "outputs": [],
   "source": [
    "import numpy as np\n",
    "from time import time"
   ]
  },
  {
   "cell_type": "markdown",
   "metadata": {
    "colab_type": "text",
    "id": "aPECAho0JIdb"
   },
   "source": [
    "## Import dati"
   ]
  },
  {
   "cell_type": "code",
   "execution_count": 6,
   "metadata": {
    "colab": {
     "base_uri": "https://localhost:8080/",
     "height": 0
    },
    "colab_type": "code",
    "id": "7Fwz6IK52MFD",
    "outputId": "bbca806f-6a13-42ce-92d4-f58eb033ee53"
   },
   "outputs": [
    {
     "name": "stdout",
     "output_type": "stream",
     "text": [
      "--2020-02-11 10:37:32--  https://www.dropbox.com/s/drwy7fq5svwv78p/101_ObjectCategories_split.tar\n",
      "Resolving www.dropbox.com (www.dropbox.com)... 162.125.8.1, 2620:100:6018:1::a27d:301\n",
      "Connecting to www.dropbox.com (www.dropbox.com)|162.125.8.1|:443... connected.\n",
      "HTTP request sent, awaiting response... 301 Moved Permanently\n",
      "Location: /s/raw/drwy7fq5svwv78p/101_ObjectCategories_split.tar [following]\n",
      "--2020-02-11 10:37:32--  https://www.dropbox.com/s/raw/drwy7fq5svwv78p/101_ObjectCategories_split.tar\n",
      "Reusing existing connection to www.dropbox.com:443.\n",
      "HTTP request sent, awaiting response... 302 Found\n",
      "Location: https://ucaad89f4e3dca254243c9830739.dl.dropboxusercontent.com/cd/0/inline/Ax665wKFPkE2FD6Vlr0rqfbRlDK6n8o5NzOMUmebRB_yNFVXnpRuvh0oVdtmf-n_G_95Qb9TiNgmEC6QQ31Bt0Xt9JCXRVYi0CY79mYKbJcF7g/file# [following]\n",
      "--2020-02-11 10:37:32--  https://ucaad89f4e3dca254243c9830739.dl.dropboxusercontent.com/cd/0/inline/Ax665wKFPkE2FD6Vlr0rqfbRlDK6n8o5NzOMUmebRB_yNFVXnpRuvh0oVdtmf-n_G_95Qb9TiNgmEC6QQ31Bt0Xt9JCXRVYi0CY79mYKbJcF7g/file\n",
      "Resolving ucaad89f4e3dca254243c9830739.dl.dropboxusercontent.com (ucaad89f4e3dca254243c9830739.dl.dropboxusercontent.com)... 162.125.8.6, 2620:100:601b:6::a27d:806\n",
      "Connecting to ucaad89f4e3dca254243c9830739.dl.dropboxusercontent.com (ucaad89f4e3dca254243c9830739.dl.dropboxusercontent.com)|162.125.8.6|:443... connected.\n",
      "HTTP request sent, awaiting response... 302 FOUND\n",
      "Location: /cd/0/inline2/Ax7PTw5_sBXjvfCpfpe0XG4b10eYxfNKbZ4WpBlS107sj-losywSw8vOBumwh-WFQFrUjOTDU1NEIDjuKuCCC_N93M_0ygRfakj46OwV-wNNJobH7UQswKMnDhO-F6BKetxnNTdPDRr9sM4o4VkRKQNbH4qDEilYibvkhjA-Qj0iDt7Ahj40rdDvJmYoWSX5Z1Nzynot3f1c6cyyznwUP4pdz141ifSNCN8pq2gyhr9mBqjQpljvHwbakfWuSnAl_lD6FUD5dsAqTdhss1tpKDAkNjVYY09pxoxNyDT9-tlseBQwCFFSbFU_x21rsfsXVTsYvCPmjW9eAu4XRF-V_v61/file [following]\n",
      "--2020-02-11 10:37:33--  https://ucaad89f4e3dca254243c9830739.dl.dropboxusercontent.com/cd/0/inline2/Ax7PTw5_sBXjvfCpfpe0XG4b10eYxfNKbZ4WpBlS107sj-losywSw8vOBumwh-WFQFrUjOTDU1NEIDjuKuCCC_N93M_0ygRfakj46OwV-wNNJobH7UQswKMnDhO-F6BKetxnNTdPDRr9sM4o4VkRKQNbH4qDEilYibvkhjA-Qj0iDt7Ahj40rdDvJmYoWSX5Z1Nzynot3f1c6cyyznwUP4pdz141ifSNCN8pq2gyhr9mBqjQpljvHwbakfWuSnAl_lD6FUD5dsAqTdhss1tpKDAkNjVYY09pxoxNyDT9-tlseBQwCFFSbFU_x21rsfsXVTsYvCPmjW9eAu4XRF-V_v61/file\n",
      "Reusing existing connection to ucaad89f4e3dca254243c9830739.dl.dropboxusercontent.com:443.\n",
      "HTTP request sent, awaiting response... 200 OK\n",
      "Length: 145737728 (139M) [application/x-tar]\n",
      "Saving to: ‘101_ObjectCategories_split.tar’\n",
      "\n",
      "101_ObjectCategorie 100%[===================>] 138.99M  35.9MB/s    in 3.9s    \n",
      "\n",
      "2020-02-11 10:37:37 (35.9 MB/s) - ‘101_ObjectCategories_split.tar’ saved [145737728/145737728]\n",
      "\n"
     ]
    }
   ],
   "source": [
    "# Download del dataset\n",
    "!wget https://www.dropbox.com/s/drwy7fq5svwv78p/101_ObjectCategories_split.tar"
   ]
  },
  {
   "cell_type": "code",
   "execution_count": 0,
   "metadata": {
    "colab": {},
    "colab_type": "code",
    "id": "VqPY0VhtLEa2"
   },
   "outputs": [],
   "source": [
    "# Estrazione file e rimozione archivio\n",
    "import tarfile\n",
    "tar = tarfile.open('101_ObjectCategories_split.tar')\n",
    "tar.extractall()\n",
    "tar.close()\n",
    "!rm 101_ObjectCategories_split.tar"
   ]
  },
  {
   "cell_type": "code",
   "execution_count": 0,
   "metadata": {
    "colab": {},
    "colab_type": "code",
    "id": "oxeM9vue22HY"
   },
   "outputs": [],
   "source": [
    "base_path = '101_ObjectCategories_split/'"
   ]
  },
  {
   "cell_type": "markdown",
   "metadata": {
    "colab_type": "text",
    "id": "_Z1CVJhISuph"
   },
   "source": [
    "# Fine-tuning con Mobilenet V2"
   ]
  },
  {
   "cell_type": "markdown",
   "metadata": {
    "colab_type": "text",
    "id": "D1KKRQLifv8l"
   },
   "source": [
    "## Data loader"
   ]
  },
  {
   "cell_type": "markdown",
   "metadata": {
    "colab_type": "text",
    "id": "DdHeCb2Proeo"
   },
   "source": [
    "### Training set"
   ]
  },
  {
   "cell_type": "code",
   "execution_count": 9,
   "metadata": {
    "colab": {
     "base_uri": "https://localhost:8080/",
     "height": 34
    },
    "colab_type": "code",
    "id": "hqmp7D_NN6Kx",
    "outputId": "23d63994-7b2b-4f85-ea47-8a46f7f1bd46"
   },
   "outputs": [
    {
     "name": "stdout",
     "output_type": "stream",
     "text": [
      "Found 4600 images belonging to 102 classes.\n"
     ]
    }
   ],
   "source": [
    "# Applicazione del preprocessing 'standard' per mobilenet su train_set\n",
    "train_processing = kimage.ImageDataGenerator(\n",
    "    preprocessing_function=mobilenet_v2.preprocess_input)\n",
    "\n",
    "# creazione train_generator\n",
    "train_generator = train_processing.flow_from_directory(\n",
    "        directory=base_path+'train',\n",
    "        target_size=(224, 224),\n",
    "        color_mode=\"rgb\",\n",
    "        batch_size=32,\n",
    "        class_mode=\"categorical\",\n",
    "        shuffle=True,\n",
    "        seed=1\n",
    ")"
   ]
  },
  {
   "cell_type": "markdown",
   "metadata": {
    "colab_type": "text",
    "id": "YnRD5ix_rwMd"
   },
   "source": [
    "### Test set"
   ]
  },
  {
   "cell_type": "code",
   "execution_count": 10,
   "metadata": {
    "colab": {
     "base_uri": "https://localhost:8080/",
     "height": 34
    },
    "colab_type": "code",
    "id": "B3OVJ03XiZDa",
    "outputId": "662d189e-a173-4c65-88a3-ffa3a1ee94ad"
   },
   "outputs": [
    {
     "name": "stdout",
     "output_type": "stream",
     "text": [
      "Found 4544 images belonging to 102 classes.\n"
     ]
    }
   ],
   "source": [
    "# Applicazione del preprocessing 'standard' per mobilenet su test set\n",
    "test_processing = kimage.ImageDataGenerator(\n",
    "    preprocessing_function=mobilenet_v2.preprocess_input)\n",
    "\n",
    "# creazione test_generator\n",
    "test_generator = test_processing.flow_from_directory(\n",
    "        directory=base_path+'test',\n",
    "        target_size=(224, 224),\n",
    "        color_mode=\"rgb\",\n",
    "        batch_size=32,\n",
    "        class_mode=\"categorical\",\n",
    "        shuffle=True\n",
    ")"
   ]
  },
  {
   "cell_type": "markdown",
   "metadata": {
    "colab_type": "text",
    "id": "bHwT-szGYjYX"
   },
   "source": [
    "## Caricamento modello di base"
   ]
  },
  {
   "cell_type": "markdown",
   "metadata": {
    "colab_type": "text",
    "id": "lTUFmtKRkKXK"
   },
   "source": [
    "In questa fase viene caricato il modello mobilnet pre-addestrato sul dataset 'imagenet'. Viene caricata solo la parte convoluzionale del modello. Il classificatore fully-connected non è incluso."
   ]
  },
  {
   "cell_type": "code",
   "execution_count": 0,
   "metadata": {
    "colab": {},
    "colab_type": "code",
    "id": "GB1-YzCMYeel"
   },
   "outputs": [],
   "source": [
    "# Modello di base\n",
    "mob_net = mobilenet_v2.MobileNetV2(input_shape=(224,224,3),\n",
    "                                   weights='imagenet',\n",
    "                                   include_top=False,\n",
    "                                   pooling='avg')"
   ]
  },
  {
   "cell_type": "markdown",
   "metadata": {
    "colab_type": "text",
    "id": "5JwyFeEcZr3i"
   },
   "source": [
    "## Creazione del classificatore"
   ]
  },
  {
   "cell_type": "markdown",
   "metadata": {
    "colab_type": "text",
    "id": "XDHVNBhAkiNK"
   },
   "source": [
    "Vengono congelati i pesi della rete. Così facendo in fase di addestramento verranno addestrati solo i pesi del classificatore fully-connected. I pesi della mobilenet rimarranno invariati.\n",
    "\n",
    "\n",
    "La rete potrebbe anche essere 'tagliata' prima in modo tale che le features estratte siano più generiche. Ma, essendo il dataset utilizzato abbastanza simile ad imagenet questa operazione non è stata effettuata."
   ]
  },
  {
   "cell_type": "code",
   "execution_count": 0,
   "metadata": {
    "colab": {},
    "colab_type": "code",
    "id": "wqZdLroObk23"
   },
   "outputs": [],
   "source": [
    "# Congelamento layers del modello di base (fine-tuning)\n",
    "for layer in mob_net.layers:\n",
    "    layer.trainable = False"
   ]
  },
  {
   "cell_type": "markdown",
   "metadata": {
    "colab_type": "text",
    "id": "IjeAvOmfk4jI"
   },
   "source": [
    "Viene aggiunto il classificatore fully-connected costituito da:\n",
    "- Fully-connected che mappa a 1024 dimensioni\n",
    "- ReLU\n",
    "- Fully-connected che mappi alla dimensione finale (102 classi)"
   ]
  },
  {
   "cell_type": "code",
   "execution_count": 0,
   "metadata": {
    "colab": {},
    "colab_type": "code",
    "id": "jiDiQoLvZM_e"
   },
   "outputs": [],
   "source": [
    "# Output del modello di base\n",
    "x_mob = mob_net.output\n",
    "\n",
    "# Classificatore fully-connected\n",
    "x_mob = Dense(1024, activation='relu')(x_mob)\n",
    "pred_mob = Dense(102, activation='softmax')(x_mob)"
   ]
  },
  {
   "cell_type": "markdown",
   "metadata": {
    "colab_type": "text",
    "id": "mvvihGqhlV65"
   },
   "source": [
    "Vengono unite la mobilnet ed il classificatore"
   ]
  },
  {
   "cell_type": "code",
   "execution_count": 0,
   "metadata": {
    "colab": {},
    "colab_type": "code",
    "id": "vxrOFMY2asBl"
   },
   "outputs": [],
   "source": [
    "# Modello specializzato\n",
    "my_mob_net = Model(inputs=mob_net.input, outputs=pred_mob)"
   ]
  },
  {
   "cell_type": "markdown",
   "metadata": {
    "colab_type": "text",
    "id": "SgJzoG7ii2KN"
   },
   "source": [
    "## Addestramento (fine-tuning)"
   ]
  },
  {
   "cell_type": "code",
   "execution_count": 0,
   "metadata": {
    "colab": {},
    "colab_type": "code",
    "id": "HI94wb3KwQka"
   },
   "outputs": [],
   "source": [
    "# Compila il modello per l'addestramento\n",
    "my_mob_net.compile(loss=keras.losses.categorical_crossentropy,\n",
    "                  optimizer=optimizers.RMSprop(),\n",
    "                  metrics=['accuracy'])"
   ]
  },
  {
   "cell_type": "code",
   "execution_count": 16,
   "metadata": {
    "colab": {
     "base_uri": "https://localhost:8080/",
     "height": 136
    },
    "colab_type": "code",
    "id": "gvdsphTv_Z3H",
    "outputId": "ff3985aa-7cfb-4068-bb08-91aa1c08d025"
   },
   "outputs": [
    {
     "name": "stdout",
     "output_type": "stream",
     "text": [
      "Epoch 1/3\n",
      "144/144 [==============================] - 30s 207ms/step - loss: 1.5962 - accuracy: 0.6552 - val_loss: 0.5109 - val_accuracy: 0.8083\n",
      "Epoch 2/3\n",
      "144/144 [==============================] - 24s 165ms/step - loss: 0.4351 - accuracy: 0.8776 - val_loss: 0.6177 - val_accuracy: 0.8426\n",
      "Epoch 3/3\n",
      "144/144 [==============================] - 24s 165ms/step - loss: 0.2190 - accuracy: 0.9289 - val_loss: 0.2435 - val_accuracy: 0.8649\n"
     ]
    },
    {
     "data": {
      "text/plain": [
       "<keras.callbacks.callbacks.History at 0x7fce90314f60>"
      ]
     },
     "execution_count": 16,
     "metadata": {
      "tags": []
     },
     "output_type": "execute_result"
    }
   ],
   "source": [
    "my_mob_net.fit_generator(train_generator,\n",
    "                         epochs=3,\n",
    "                         validation_data=test_generator)"
   ]
  },
  {
   "cell_type": "markdown",
   "metadata": {
    "colab_type": "text",
    "id": "lCrF6RfVjtao"
   },
   "source": [
    "## Valutazione del modello"
   ]
  },
  {
   "cell_type": "code",
   "execution_count": 17,
   "metadata": {
    "colab": {
     "base_uri": "https://localhost:8080/",
     "height": 34
    },
    "colab_type": "code",
    "id": "vZNOa4RRg-rS",
    "outputId": "804c8c66-1e11-466e-9eae-4f6a11207c0d"
   },
   "outputs": [
    {
     "data": {
      "text/plain": [
       "[0.24346624314785004, 0.8648767471313477]"
      ]
     },
     "execution_count": 17,
     "metadata": {
      "tags": []
     },
     "output_type": "execute_result"
    }
   ],
   "source": [
    "my_mob_net.evaluate_generator(test_generator)"
   ]
  },
  {
   "cell_type": "markdown",
   "metadata": {
    "colab_type": "text",
    "id": "2Kbh4cXfjvnh"
   },
   "source": [
    "Il modello è stato testato utilizzando il test generator ed è possibile osservare che raggiunge l'86% di accuracy."
   ]
  },
  {
   "cell_type": "markdown",
   "metadata": {
    "colab_type": "text",
    "id": "eIfogqfmmGxs"
   },
   "source": [
    "## Data-Augmentation"
   ]
  },
  {
   "cell_type": "markdown",
   "metadata": {
    "colab_type": "text",
    "id": "SdlODPbdmGxw"
   },
   "source": [
    "### Training set"
   ]
  },
  {
   "cell_type": "markdown",
   "metadata": {
    "colab_type": "text",
    "id": "mhnK2pDerzNu"
   },
   "source": [
    "Creazione di un nuovo train generator in cui, oltre al preprocessing standard della mobilmet vegono applicati anche diversi metodi di data augmentation, tra cui:\n",
    "- width_shift_range: l'immagine viene 'spostata' in orizzontale\n",
    "- height_shift_range: l'immagine viene 'spostata' in vertivale\n",
    "- horizontal_flip: flip dell'immagine in orizzontale\n",
    "- vertical_flip: flip dell'immagine in verticale\n",
    "- rotation_range: l'immagine viene ruotata\n",
    "- brightness_range: viene modificata la brightness dell'immagine\n"
   ]
  },
  {
   "cell_type": "code",
   "execution_count": 18,
   "metadata": {
    "colab": {
     "base_uri": "https://localhost:8080/",
     "height": 34
    },
    "colab_type": "code",
    "id": "5Yxz1AvumGxw",
    "outputId": "9e1218ae-9828-4ff8-e385-dcab1511983e"
   },
   "outputs": [
    {
     "name": "stdout",
     "output_type": "stream",
     "text": [
      "Found 4600 images belonging to 102 classes.\n"
     ]
    }
   ],
   "source": [
    "train_processing = kimage.ImageDataGenerator(\n",
    "    preprocessing_function = mobilenet_v2.preprocess_input,\n",
    "    width_shift_range = 0.3,\n",
    "    height_shift_range = 0.3,\n",
    "    horizontal_flip = True,\n",
    "    vertical_flip = True,\n",
    "    rotation_range = 90,\n",
    "    brightness_range = [0.2,1.0]\n",
    "    )\n",
    "\n",
    "# creazione train_generator\n",
    "train_generator = train_processing.flow_from_directory(\n",
    "        directory=base_path+'train',\n",
    "        target_size=(224, 224),\n",
    "        color_mode=\"rgb\",\n",
    "        batch_size=32,\n",
    "        class_mode=\"categorical\",\n",
    "        shuffle=True,\n",
    "        seed=1\n",
    ")"
   ]
  },
  {
   "cell_type": "markdown",
   "metadata": {
    "colab_type": "text",
    "id": "9oZB2txBneM4"
   },
   "source": [
    "### Addestramento modello"
   ]
  },
  {
   "cell_type": "markdown",
   "metadata": {
    "colab_type": "text",
    "id": "nAKhx1xYneM-"
   },
   "source": [
    "Viene utilizzato lo stesso modello creato precedentemente ma con il train generator in cui è stata utilizzata la data augmentation"
   ]
  },
  {
   "cell_type": "code",
   "execution_count": 0,
   "metadata": {
    "colab": {},
    "colab_type": "code",
    "id": "qJ-ADo0sneM_"
   },
   "outputs": [],
   "source": [
    "# Modello specializzato\n",
    "my_mob_net = Model(inputs=mob_net.input, outputs=pred_mob)\n",
    "\n",
    "# Compila il modello per l'addestramento\n",
    "my_mob_net.compile(loss=keras.losses.categorical_crossentropy,\n",
    "                  optimizer=optimizers.RMSprop(),\n",
    "                  metrics=['accuracy'])"
   ]
  },
  {
   "cell_type": "code",
   "execution_count": 20,
   "metadata": {
    "colab": {
     "base_uri": "https://localhost:8080/",
     "height": 136
    },
    "colab_type": "code",
    "id": "4GWnLaUnneNC",
    "outputId": "31dca5a2-0d6e-4769-c362-5f2d62f8d2d3"
   },
   "outputs": [
    {
     "name": "stdout",
     "output_type": "stream",
     "text": [
      "Epoch 1/3\n",
      "144/144 [==============================] - 81s 565ms/step - loss: 1.6044 - accuracy: 0.6128 - val_loss: 0.7346 - val_accuracy: 0.8024\n",
      "Epoch 2/3\n",
      "144/144 [==============================] - 74s 514ms/step - loss: 1.2093 - accuracy: 0.6839 - val_loss: 0.6318 - val_accuracy: 0.8202\n",
      "Epoch 3/3\n",
      "144/144 [==============================] - 75s 518ms/step - loss: 1.0656 - accuracy: 0.7170 - val_loss: 0.7882 - val_accuracy: 0.8233\n"
     ]
    },
    {
     "data": {
      "text/plain": [
       "<keras.callbacks.callbacks.History at 0x7fcea2426a58>"
      ]
     },
     "execution_count": 20,
     "metadata": {
      "tags": []
     },
     "output_type": "execute_result"
    }
   ],
   "source": [
    "my_mob_net.fit_generator(\n",
    "    train_generator, epochs=3, validation_data=test_generator\n",
    "    )"
   ]
  },
  {
   "cell_type": "markdown",
   "metadata": {
    "colab_type": "text",
    "id": "WeDawZ1lneNG"
   },
   "source": [
    "### Valutazione del modello"
   ]
  },
  {
   "cell_type": "code",
   "execution_count": 21,
   "metadata": {
    "colab": {
     "base_uri": "https://localhost:8080/",
     "height": 34
    },
    "colab_type": "code",
    "id": "4W3zqJUMneNH",
    "outputId": "270d9475-b492-4970-9f76-d8f01b757f6a"
   },
   "outputs": [
    {
     "data": {
      "text/plain": [
       "[0.47388771176338196, 0.8232834339141846]"
      ]
     },
     "execution_count": 21,
     "metadata": {
      "tags": []
     },
     "output_type": "execute_result"
    }
   ],
   "source": [
    "my_mob_net.evaluate_generator(test_generator)"
   ]
  },
  {
   "cell_type": "markdown",
   "metadata": {
    "colab_type": "text",
    "id": "RFtDrvSVqQ2A"
   },
   "source": [
    "Con l'augmentation dei dati l'accuracy è pari all'82%, dunque più bassa rispetto al modello senza augmentation. È da considerare, però, che il modello è stato addestrato con sole tre iterazioni."
   ]
  },
  {
   "cell_type": "markdown",
   "metadata": {
    "colab_type": "text",
    "id": "ZQU_OaunSmym"
   },
   "source": [
    "# Fine-tuning con ResNet\n",
    "\n",
    "Le stesse operazioni eseguite con la rete mobilnet vengono ripetute con la rete ResNet per confrontarne i risultati."
   ]
  },
  {
   "cell_type": "markdown",
   "metadata": {
    "colab_type": "text",
    "id": "6JJtSjQW9Rlk"
   },
   "source": [
    "## Data loader\n",
    "\n"
   ]
  },
  {
   "cell_type": "markdown",
   "metadata": {
    "colab_type": "text",
    "id": "8Y5GGmR7TA1K"
   },
   "source": [
    "### Training set"
   ]
  },
  {
   "cell_type": "code",
   "execution_count": 22,
   "metadata": {
    "colab": {
     "base_uri": "https://localhost:8080/",
     "height": 34
    },
    "colab_type": "code",
    "id": "lYlxDfId9Pp0",
    "outputId": "af30f60f-3eaf-4f7a-9c2f-a0d41491db16"
   },
   "outputs": [
    {
     "name": "stdout",
     "output_type": "stream",
     "text": [
      "Found 4600 images belonging to 102 classes.\n"
     ]
    }
   ],
   "source": [
    "# Applicazione del preprocessing 'standard' per resnet su train_set\n",
    "train_processing_res = kimage.ImageDataGenerator(\n",
    "    preprocessing_function = resnet_v2.preprocess_input\n",
    "    )\n",
    "\n",
    "# creazione train_generator\n",
    "train_generator_res = train_processing_res.flow_from_directory(\n",
    "        directory=base_path+'train',\n",
    "        target_size=(224, 224),\n",
    "        color_mode=\"rgb\",\n",
    "        batch_size=32,\n",
    "        class_mode=\"categorical\",\n",
    "        shuffle=True,\n",
    "        seed=1\n",
    ")"
   ]
  },
  {
   "cell_type": "markdown",
   "metadata": {
    "colab_type": "text",
    "id": "aD4EFW7l9PqK"
   },
   "source": [
    "### Test set"
   ]
  },
  {
   "cell_type": "code",
   "execution_count": 23,
   "metadata": {
    "colab": {
     "base_uri": "https://localhost:8080/",
     "height": 34
    },
    "colab_type": "code",
    "id": "AhFlhzn19PqL",
    "outputId": "09d15c4c-c4c3-4bb5-fbba-754493d53c1b"
   },
   "outputs": [
    {
     "name": "stdout",
     "output_type": "stream",
     "text": [
      "Found 4544 images belonging to 102 classes.\n"
     ]
    }
   ],
   "source": [
    "# Applicazione del preprocessing 'standard' per resnet su test set\n",
    "test_processing_res = kimage.ImageDataGenerator(\n",
    "    preprocessing_function = resnet_v2.preprocess_input\n",
    "    )\n",
    "\n",
    "# creazione test_generator\n",
    "test_generator_res = test_processing_res.flow_from_directory(\n",
    "        directory=base_path+'test',\n",
    "        target_size=(224, 224),\n",
    "        color_mode=\"rgb\",\n",
    "        batch_size=32,\n",
    "        class_mode=\"categorical\",\n",
    "        shuffle=True\n",
    ")"
   ]
  },
  {
   "cell_type": "markdown",
   "metadata": {
    "colab_type": "text",
    "id": "XclfK2qx9PqN"
   },
   "source": [
    "## Caricamento modello di base"
   ]
  },
  {
   "cell_type": "code",
   "execution_count": 0,
   "metadata": {
    "colab": {},
    "colab_type": "code",
    "id": "xFP7ygrr9PqO"
   },
   "outputs": [],
   "source": [
    "# Modello di base\n",
    "resnet = resnet_v2.ResNet101V2(\n",
    "    input_shape=(224,224,3),\n",
    "    weights='imagenet',\n",
    "    include_top=False,\n",
    "    pooling='avg'\n",
    "    )"
   ]
  },
  {
   "cell_type": "markdown",
   "metadata": {
    "colab_type": "text",
    "id": "6OmdRfnJ9PqT"
   },
   "source": [
    "## Creazione del classificatore"
   ]
  },
  {
   "cell_type": "code",
   "execution_count": 0,
   "metadata": {
    "colab": {},
    "colab_type": "code",
    "id": "mSDWKMK59PqU"
   },
   "outputs": [],
   "source": [
    "# Congelamento layers del modello di base (fine-tuning)\n",
    "for layer in resnet.layers:\n",
    "    layer.trainable = False"
   ]
  },
  {
   "cell_type": "code",
   "execution_count": 0,
   "metadata": {
    "colab": {},
    "colab_type": "code",
    "id": "EJ-_OKym9PqW"
   },
   "outputs": [],
   "source": [
    "# Output del modello di base\n",
    "x_res = resnet.output\n",
    "\n",
    "# Classificatore fully-connected\n",
    "x_res = Dense(1024, activation='relu')(x_res)\n",
    "pred_res = Dense(102, activation='softmax')(x_res)"
   ]
  },
  {
   "cell_type": "code",
   "execution_count": 0,
   "metadata": {
    "colab": {},
    "colab_type": "code",
    "id": "6P6jVIc49PqX"
   },
   "outputs": [],
   "source": [
    "# Modello specializzato\n",
    "my_resnet = Model(inputs=resnet.input, outputs=pred_res)"
   ]
  },
  {
   "cell_type": "markdown",
   "metadata": {
    "colab_type": "text",
    "id": "PMxz5EMY9Pqb"
   },
   "source": [
    "## Addestramento (fine-tuning)"
   ]
  },
  {
   "cell_type": "code",
   "execution_count": 0,
   "metadata": {
    "colab": {},
    "colab_type": "code",
    "id": "as2uFMu89Pqb"
   },
   "outputs": [],
   "source": [
    "# Compila il modello per l'addestramento\n",
    "my_resnet.compile(loss=keras.losses.categorical_crossentropy,\n",
    "                  optimizer=optimizers.RMSprop(),\n",
    "                  metrics=['accuracy'])"
   ]
  },
  {
   "cell_type": "code",
   "execution_count": 29,
   "metadata": {
    "colab": {
     "base_uri": "https://localhost:8080/",
     "height": 136
    },
    "colab_type": "code",
    "id": "bPccwIB99Pqf",
    "outputId": "d4ed3137-86c1-4fe7-ce8e-cf924204047d"
   },
   "outputs": [
    {
     "name": "stdout",
     "output_type": "stream",
     "text": [
      "Epoch 1/3\n",
      "144/144 [==============================] - 73s 505ms/step - loss: 1.1041 - accuracy: 0.7415 - val_loss: 0.7102 - val_accuracy: 0.8352\n",
      "Epoch 2/3\n",
      "144/144 [==============================] - 64s 445ms/step - loss: 0.3005 - accuracy: 0.9089 - val_loss: 0.7590 - val_accuracy: 0.8939\n",
      "Epoch 3/3\n",
      "144/144 [==============================] - 64s 443ms/step - loss: 0.1614 - accuracy: 0.9574 - val_loss: 0.2766 - val_accuracy: 0.8935\n"
     ]
    },
    {
     "data": {
      "text/plain": [
       "<keras.callbacks.callbacks.History at 0x7fce6b175dd8>"
      ]
     },
     "execution_count": 29,
     "metadata": {
      "tags": []
     },
     "output_type": "execute_result"
    }
   ],
   "source": [
    "my_resnet.fit_generator(\n",
    "    train_generator_res, epochs=3, validation_data=test_generator_res\n",
    "    )"
   ]
  },
  {
   "cell_type": "code",
   "execution_count": 30,
   "metadata": {
    "colab": {
     "base_uri": "https://localhost:8080/",
     "height": 34
    },
    "colab_type": "code",
    "id": "uCXv6rX49Pqh",
    "outputId": "f8adc4ad-8bfe-4469-899f-821f0680d7e9"
   },
   "outputs": [
    {
     "data": {
      "text/plain": [
       "[0.5751411318778992, 0.8934859037399292]"
      ]
     },
     "execution_count": 30,
     "metadata": {
      "tags": []
     },
     "output_type": "execute_result"
    }
   ],
   "source": [
    "my_resnet.evaluate_generator(test_generator_res)"
   ]
  },
  {
   "cell_type": "markdown",
   "metadata": {
    "colab_type": "text",
    "id": "uiGmcmVsvmxA"
   },
   "source": [
    "La resnet utilizzando solo tre iterazioni sembra ottenere risultati migliori rispetto alla mobilnet. L'accuracy, infatti, è pari all'89%."
   ]
  },
  {
   "cell_type": "markdown",
   "metadata": {
    "colab_type": "text",
    "id": "6p71c-DUithK"
   },
   "source": [
    "## Data-Augmentation"
   ]
  },
  {
   "cell_type": "markdown",
   "metadata": {
    "colab_type": "text",
    "id": "7NAjcuQDithP"
   },
   "source": [
    "### Training set"
   ]
  },
  {
   "cell_type": "code",
   "execution_count": 31,
   "metadata": {
    "colab": {
     "base_uri": "https://localhost:8080/",
     "height": 34
    },
    "colab_type": "code",
    "id": "xx43EagUithQ",
    "outputId": "969991d9-1b3c-4921-ecd2-94f9c0cd65af"
   },
   "outputs": [
    {
     "name": "stdout",
     "output_type": "stream",
     "text": [
      "Found 4600 images belonging to 102 classes.\n"
     ]
    }
   ],
   "source": [
    "train_processing_res = kimage.ImageDataGenerator(\n",
    "    preprocessing_function=resnet_v2.preprocess_input,\n",
    "    width_shift_range=0.3,\n",
    "    height_shift_range=0.3,\n",
    "    horizontal_flip=True,\n",
    "    vertical_flip=True,\n",
    "    rotation_range=90,\n",
    "    brightness_range=[0.2,1.0]\n",
    "    )\n",
    "\n",
    "# creazione train_generator\n",
    "train_generator_res = train_processing_res.flow_from_directory(\n",
    "        directory=base_path+'train',\n",
    "        target_size=(224, 224),\n",
    "        color_mode=\"rgb\",\n",
    "        batch_size=32,\n",
    "        class_mode=\"categorical\",\n",
    "        shuffle=True,\n",
    "        seed=1\n",
    ")"
   ]
  },
  {
   "cell_type": "markdown",
   "metadata": {
    "colab_type": "text",
    "id": "1Kzp56IYithk"
   },
   "source": [
    "### Addestramento modello"
   ]
  },
  {
   "cell_type": "markdown",
   "metadata": {
    "colab_type": "text",
    "id": "RKYjosnEjb6z"
   },
   "source": [
    "Viene utilizzato lo stesso modello creato precedentemente ma con il train generator in cui è stata utilizzata la data augmentation"
   ]
  },
  {
   "cell_type": "code",
   "execution_count": 0,
   "metadata": {
    "colab": {},
    "colab_type": "code",
    "id": "lYahpMO6ithl"
   },
   "outputs": [],
   "source": [
    "# Modello specializzato\n",
    "my_resnet = Model(inputs=resnet.input, outputs=pred_res)\n",
    "\n",
    "# Compila il modello per l'addestramento\n",
    "my_resnet.compile(loss=keras.losses.categorical_crossentropy,\n",
    "                  optimizer=optimizers.RMSprop(),\n",
    "                  metrics=['accuracy'])"
   ]
  },
  {
   "cell_type": "code",
   "execution_count": 33,
   "metadata": {
    "colab": {
     "base_uri": "https://localhost:8080/",
     "height": 136
    },
    "colab_type": "code",
    "id": "j9CF09bCitho",
    "outputId": "87489585-0cd2-44a3-a747-2c100dd405c7"
   },
   "outputs": [
    {
     "name": "stdout",
     "output_type": "stream",
     "text": [
      "Epoch 1/3\n",
      "144/144 [==============================] - 109s 755ms/step - loss: 1.2456 - accuracy: 0.6915 - val_loss: 0.7792 - val_accuracy: 0.8704\n",
      "Epoch 2/3\n",
      "144/144 [==============================] - 98s 684ms/step - loss: 0.9034 - accuracy: 0.7557 - val_loss: 0.6582 - val_accuracy: 0.8783\n",
      "Epoch 3/3\n",
      "144/144 [==============================] - 99s 685ms/step - loss: 0.8006 - accuracy: 0.7750 - val_loss: 0.3955 - val_accuracy: 0.8772\n"
     ]
    },
    {
     "data": {
      "text/plain": [
       "<keras.callbacks.callbacks.History at 0x7fce6a310dd8>"
      ]
     },
     "execution_count": 33,
     "metadata": {
      "tags": []
     },
     "output_type": "execute_result"
    }
   ],
   "source": [
    "my_resnet.fit_generator(\n",
    "    train_generator_res, epochs=3, validation_data=test_generator_res\n",
    "    )"
   ]
  },
  {
   "cell_type": "markdown",
   "metadata": {
    "colab_type": "text",
    "id": "5yei0iiAliPs"
   },
   "source": [
    "### Valutazione del modello"
   ]
  },
  {
   "cell_type": "code",
   "execution_count": 34,
   "metadata": {
    "colab": {
     "base_uri": "https://localhost:8080/",
     "height": 34
    },
    "colab_type": "code",
    "id": "2U3iohIRiths",
    "outputId": "8fc26cf3-81b5-4965-e8c9-ead206179a75"
   },
   "outputs": [
    {
     "data": {
      "text/plain": [
       "[1.2365059852600098, 0.877200722694397]"
      ]
     },
     "execution_count": 34,
     "metadata": {
      "tags": []
     },
     "output_type": "execute_result"
    }
   ],
   "source": [
    "my_resnet.evaluate_generator(test_generator_res)"
   ]
  },
  {
   "cell_type": "markdown",
   "metadata": {
    "colab_type": "text",
    "id": "Ti4gjP3exBvQ"
   },
   "source": [
    "La resnet con la data augmentatio risulta pegiorare leggermente, passando dall'89% all'88% di accuracy. Anche in questo caso resnet risulta essere migliore di mobilenet."
   ]
  }
 ],
 "metadata": {
  "accelerator": "GPU",
  "colab": {
   "collapsed_sections": [],
   "name": "E06_Carolla_Dario_807547.ipynb",
   "provenance": []
  },
  "kernelspec": {
   "display_name": "Python 3",
   "language": "python",
   "name": "python3"
  },
  "language_info": {
   "codemirror_mode": {
    "name": "ipython",
    "version": 3
   },
   "file_extension": ".py",
   "mimetype": "text/x-python",
   "name": "python",
   "nbconvert_exporter": "python",
   "pygments_lexer": "ipython3",
   "version": "3.7.5"
  },
  "varInspector": {
   "cols": {
    "lenName": 16,
    "lenType": 16,
    "lenVar": 40
   },
   "kernels_config": {
    "python": {
     "delete_cmd_postfix": "",
     "delete_cmd_prefix": "del ",
     "library": "var_list.py",
     "varRefreshCmd": "print(var_dic_list())"
    },
    "r": {
     "delete_cmd_postfix": ") ",
     "delete_cmd_prefix": "rm(",
     "library": "var_list.r",
     "varRefreshCmd": "cat(var_dic_list()) "
    }
   },
   "types_to_exclude": [
    "module",
    "function",
    "builtin_function_or_method",
    "instance",
    "_Feature"
   ],
   "window_display": false
  }
 },
 "nbformat": 4,
 "nbformat_minor": 1
}
