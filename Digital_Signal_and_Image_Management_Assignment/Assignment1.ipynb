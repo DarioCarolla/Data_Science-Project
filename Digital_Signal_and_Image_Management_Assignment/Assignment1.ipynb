{
 "cells": [
  {
   "cell_type": "markdown",
   "metadata": {},
   "source": [
    "# Assignment 1\n",
    "\n",
    "Implementare la feature Zero-crossing rate (ZCR) per la descrizione di un segnale audio monocanale. Verificare l'effetto dell'uso di ZCR in combinazione con altre feature."
   ]
  },
  {
   "cell_type": "markdown",
   "metadata": {},
   "source": [
    "## Import librerie"
   ]
  },
  {
   "cell_type": "code",
   "execution_count": 2,
   "metadata": {},
   "outputs": [],
   "source": [
    "import os\n",
    "import numpy as np\n",
    "from time import time\n",
    "from scipy.io import wavfile as wav\n",
    "\n",
    "import matplotlib.pyplot as plt\n",
    "import IPython.display as ipd\n",
    "\n",
    "# Strumenti di classificazione\n",
    "from sklearn.svm import SVC\n",
    "from sklearn.model_selection import train_test_split, GridSearchCV\n",
    "from sklearn.metrics import classification_report, confusion_matrix\n",
    "\n",
    "# Feature audio\n",
    "import librosa\n",
    "import librosa.display as lid\n",
    "from sklearn.preprocessing import scale"
   ]
  },
  {
   "cell_type": "markdown",
   "metadata": {},
   "source": [
    "## Data loader"
   ]
  },
  {
   "cell_type": "code",
   "execution_count": 1,
   "metadata": {},
   "outputs": [],
   "source": [
    "# Segnaposto per feature extractor\n",
    "def identity(input):\n",
    "    return input\n",
    "\n",
    "# Data loader\n",
    "def load_data(feature_extractor=identity, normalize=True):\n",
    "\n",
    "    labels = []\n",
    "    features = []\n",
    "\n",
    "    for f in sorted(os.listdir('recordings/')):\n",
    "        if f.endswith('.wav'):\n",
    "            # Carica file ed estraine le features\n",
    "            _, signal = wav.read('recordings/' + f)\n",
    "            cur_features = feature_extractor(signal)\n",
    "            features.append(cur_features)\n",
    "\n",
    "            # Categorie\n",
    "            label = f.split('_')[0]\n",
    "            labels.append(label)\n",
    "\n",
    "    # Split dei dati in train e test\n",
    "    X_train, X_test, y_train, y_test = train_test_split(features, labels, test_size=0.1, random_state=1)\n",
    "\n",
    "    if normalize:\n",
    "        eps = 0.001\n",
    "        X_train = np.array(X_train)\n",
    "        X_train_mean = X_train.mean(axis=0)\n",
    "        X_train_std = X_train.std(axis=0)\n",
    "        X_train = (X_train - X_train_mean + eps)/(X_train_std + eps)\n",
    "        X_train = [row for row in X_train]\n",
    "\n",
    "        X_test = [row for row in (np.array(X_test) - X_train_mean + eps)/(X_train_std + eps)]\n",
    "\n",
    "    return X_train, X_test, y_train, y_test"
   ]
  },
  {
   "cell_type": "markdown",
   "metadata": {},
   "source": [
    "## Features"
   ]
  },
  {
   "cell_type": "code",
   "execution_count": 3,
   "metadata": {},
   "outputs": [],
   "source": [
    "def crop(input, size=100):\n",
    "    # Elimina eventuali valori oltre il numero consentito\n",
    "    output = input[0:min(size, input.shape[0])]\n",
    "    # Aggiungi valori nulli per raggiungere la dimensione richiesta\n",
    "    output = np.concatenate((output, np.zeros(size-output.shape[0])))\n",
    "    return output"
   ]
  },
  {
   "cell_type": "code",
   "execution_count": 4,
   "metadata": {},
   "outputs": [],
   "source": [
    "def sdev(input):\n",
    "    return np.std(input, keepdims=True)"
   ]
  },
  {
   "cell_type": "code",
   "execution_count": 5,
   "metadata": {},
   "outputs": [],
   "source": [
    "def aavg(input):\n",
    "    return np.mean(np.abs(input), keepdims=True)"
   ]
  },
  {
   "cell_type": "code",
   "execution_count": 6,
   "metadata": {},
   "outputs": [],
   "source": [
    "def duration(input):\n",
    "    return input.shape"
   ]
  },
  {
   "cell_type": "code",
   "execution_count": 7,
   "metadata": {},
   "outputs": [],
   "source": [
    "def energy(input):\n",
    "    return np.sum((input*1.0)**2, keepdims=True)"
   ]
  },
  {
   "cell_type": "code",
   "execution_count": 8,
   "metadata": {},
   "outputs": [],
   "source": [
    "def zcr(input):\n",
    "    if(np.sign(input[0]) == np.sign(input[-1])):\n",
    "        return np.sum(np.abs(np.sign(input) - np.sign(np.roll(input, -1))), keepdims=True)/2\n",
    "    else:\n",
    "        return np.sum(np.abs(np.sign(input) - np.sign(np.roll(input, -1))), keepdims=True)/2 - 1 "
   ]
  },
  {
   "cell_type": "markdown",
   "metadata": {},
   "source": [
    "La **Zero-Crossing Rate** conta il numero di volte in cui il segnale attraversa lo zero."
   ]
  },
  {
   "cell_type": "code",
   "execution_count": 9,
   "metadata": {},
   "outputs": [],
   "source": [
    "def combo(input):\n",
    "    return np.concatenate((aavg(input),sdev(input),duration(input),energy(input), zcr(input)))"
   ]
  },
  {
   "cell_type": "markdown",
   "metadata": {},
   "source": [
    "## Addestramento modello con singole funzioni\n",
    "### aavg, sdev, duration, energy,  zcr"
   ]
  },
  {
   "cell_type": "code",
   "execution_count": 10,
   "metadata": {
    "scrolled": true
   },
   "outputs": [
    {
     "name": "stdout",
     "output_type": "stream",
     "text": [
      "----------------------------------------------------------------------\n",
      "Addestramento SVC con dati generati tramite la funzione aavg\n",
      "Addestramento completato in 3.073s\n",
      "Addestramento completato in 3.620s\n",
      "Migliore combinazione di parametri:\n",
      " C: 1000.0\n",
      " gamma: 1.0\n",
      "Report di classificazione:\n",
      "              precision    recall  f1-score   support\n",
      "\n",
      "           0       0.38      0.18      0.24        17\n",
      "           1       0.00      0.00      0.00        10\n",
      "           2       0.20      0.20      0.20        15\n",
      "           3       0.17      0.05      0.08        19\n",
      "           4       0.10      0.27      0.14        11\n",
      "           5       0.12      0.14      0.13        14\n",
      "           6       0.17      0.29      0.22        14\n",
      "           7       0.00      0.00      0.00        19\n",
      "           8       0.11      0.12      0.11        17\n",
      "           9       0.16      0.36      0.22        14\n",
      "\n",
      "    accuracy                           0.15       150\n",
      "   macro avg       0.14      0.16      0.13       150\n",
      "weighted avg       0.15      0.15      0.13       150\n",
      "\n",
      "Matrice di confusione:\n",
      "[[3 0 0 2 5 0 2 0 2 3]\n",
      " [0 0 1 0 3 0 3 0 1 2]\n",
      " [0 0 3 0 1 5 2 0 1 3]\n",
      " [1 0 5 1 5 0 3 0 2 2]\n",
      " [3 0 0 1 3 1 0 0 1 2]\n",
      " [0 0 0 1 4 2 1 0 2 4]\n",
      " [1 0 1 0 1 2 4 0 3 2]\n",
      " [0 0 3 0 2 3 6 0 3 2]\n",
      " [0 0 0 1 5 2 0 0 2 7]\n",
      " [0 0 2 0 2 2 2 0 1 5]]\n"
     ]
    },
    {
     "name": "stderr",
     "output_type": "stream",
     "text": [
      "/Users/dario/opt/anaconda3/envs/dsim/lib/python3.7/site-packages/sklearn/metrics/classification.py:1437: UndefinedMetricWarning: Precision and F-score are ill-defined and being set to 0.0 in labels with no predicted samples.\n",
      "  'precision', 'predicted', average, warn_for)\n"
     ]
    },
    {
     "name": "stdout",
     "output_type": "stream",
     "text": [
      "----------------------------------------------------------------------\n",
      "Addestramento SVC con dati generati tramite la funzione sdev\n",
      "Addestramento completato in 3.268s\n",
      "Addestramento completato in 3.560s\n",
      "Migliore combinazione di parametri:\n",
      " C: 500.0\n",
      " gamma: 1.0\n",
      "Report di classificazione:\n",
      "              precision    recall  f1-score   support\n",
      "\n",
      "           0       0.20      0.12      0.15        17\n",
      "           1       0.20      0.20      0.20        10\n",
      "           2       0.13      0.20      0.16        15\n",
      "           3       0.21      0.16      0.18        19\n",
      "           4       0.09      0.27      0.13        11\n",
      "           5       0.14      0.21      0.17        14\n",
      "           6       0.27      0.21      0.24        14\n",
      "           7       0.00      0.00      0.00        19\n",
      "           8       0.00      0.00      0.00        17\n",
      "           9       0.16      0.29      0.21        14\n",
      "\n",
      "    accuracy                           0.15       150\n",
      "   macro avg       0.14      0.17      0.14       150\n",
      "weighted avg       0.14      0.15      0.14       150\n",
      "\n",
      "Matrice di confusione:\n",
      "[[2 0 3 0 6 0 2 1 0 3]\n",
      " [1 2 1 2 2 1 1 0 0 0]\n",
      " [1 0 3 2 1 5 0 0 0 3]\n",
      " [0 2 6 3 3 2 1 0 0 2]\n",
      " [3 0 1 0 3 1 0 0 0 3]\n",
      " [1 1 1 1 5 3 0 0 0 2]\n",
      " [0 0 3 1 5 1 3 0 0 1]\n",
      " [0 2 3 1 3 4 3 0 0 3]\n",
      " [2 0 1 2 5 3 0 0 0 4]\n",
      " [0 3 1 2 1 2 1 0 0 4]]\n",
      "----------------------------------------------------------------------\n",
      "Addestramento SVC con dati generati tramite la funzione duration\n"
     ]
    },
    {
     "name": "stderr",
     "output_type": "stream",
     "text": [
      "/Users/dario/opt/anaconda3/envs/dsim/lib/python3.7/site-packages/sklearn/metrics/classification.py:1437: UndefinedMetricWarning: Precision and F-score are ill-defined and being set to 0.0 in labels with no predicted samples.\n",
      "  'precision', 'predicted', average, warn_for)\n"
     ]
    },
    {
     "name": "stdout",
     "output_type": "stream",
     "text": [
      "Addestramento completato in 4.064s\n",
      "Addestramento completato in 3.433s\n",
      "Migliore combinazione di parametri:\n",
      " C: 1000.0\n",
      " gamma: 1.0\n",
      "Report di classificazione:\n",
      "              precision    recall  f1-score   support\n",
      "\n",
      "           0       0.25      0.06      0.10        17\n",
      "           1       0.21      0.30      0.25        10\n",
      "           2       0.16      0.20      0.18        15\n",
      "           3       0.31      0.42      0.36        19\n",
      "           4       0.30      0.27      0.29        11\n",
      "           5       0.00      0.00      0.00        14\n",
      "           6       0.67      0.14      0.24        14\n",
      "           7       0.00      0.00      0.00        19\n",
      "           8       0.29      0.65      0.40        17\n",
      "           9       0.17      0.43      0.24        14\n",
      "\n",
      "    accuracy                           0.25       150\n",
      "   macro avg       0.24      0.25      0.20       150\n",
      "weighted avg       0.23      0.25      0.20       150\n",
      "\n",
      "Matrice di confusione:\n",
      "[[ 1  0  0  2  2  0  0  0  4  8]\n",
      " [ 0  3  2  2  1  0  0  0  1  1]\n",
      " [ 0  1  3  4  0  0  0  0  5  2]\n",
      " [ 0  4  2  8  1  0  0  0  0  4]\n",
      " [ 0  1  2  1  3  0  0  0  2  2]\n",
      " [ 0  0  2  1  3  0  0  0  5  3]\n",
      " [ 1  2  1  2  0  0  2  0  1  5]\n",
      " [ 0  2  5  1  0  0  0  0  7  4]\n",
      " [ 0  1  0  4  0  0  0  0 11  1]\n",
      " [ 2  0  2  1  0  0  1  0  2  6]]\n",
      "----------------------------------------------------------------------\n",
      "Addestramento SVC con dati generati tramite la funzione energy\n"
     ]
    },
    {
     "name": "stderr",
     "output_type": "stream",
     "text": [
      "/Users/dario/opt/anaconda3/envs/dsim/lib/python3.7/site-packages/sklearn/metrics/classification.py:1437: UndefinedMetricWarning: Precision and F-score are ill-defined and being set to 0.0 in labels with no predicted samples.\n",
      "  'precision', 'predicted', average, warn_for)\n"
     ]
    },
    {
     "name": "stdout",
     "output_type": "stream",
     "text": [
      "Addestramento completato in 2.348s\n",
      "Addestramento completato in 2.384s\n",
      "Migliore combinazione di parametri:\n",
      " C: 500.0\n",
      " gamma: 0.1\n",
      "Report di classificazione:\n",
      "              precision    recall  f1-score   support\n",
      "\n",
      "           0       1.00      0.06      0.11        17\n",
      "           1       0.00      0.00      0.00        10\n",
      "           2       0.20      0.07      0.10        15\n",
      "           3       0.18      0.58      0.28        19\n",
      "           4       0.12      0.27      0.17        11\n",
      "           5       0.11      0.14      0.12        14\n",
      "           6       0.36      0.29      0.32        14\n",
      "           7       0.13      0.21      0.16        19\n",
      "           8       0.00      0.00      0.00        17\n",
      "           9       0.00      0.00      0.00        14\n",
      "\n",
      "    accuracy                           0.17       150\n",
      "   macro avg       0.21      0.16      0.13       150\n",
      "weighted avg       0.23      0.17      0.13       150\n",
      "\n",
      "Matrice di confusione:\n",
      "[[ 1  0  0  9  0  2  2  3  0  0]\n",
      " [ 0  0  1  5  4  0  0  0  0  0]\n",
      " [ 0  0  1  6  0  5  0  3  0  0]\n",
      " [ 0  0  0 11  4  2  0  2  0  0]\n",
      " [ 0  0  0  1  3  0  3  4  0  0]\n",
      " [ 0  0  0  5  3  2  1  3  0  0]\n",
      " [ 0  0  0  8  0  0  4  2  0  0]\n",
      " [ 0  0  1  8  2  4  0  4  0  0]\n",
      " [ 0  0  2  4  3  4  1  3  0  0]\n",
      " [ 0  0  0  3  5  0  0  6  0  0]]\n"
     ]
    },
    {
     "name": "stderr",
     "output_type": "stream",
     "text": [
      "/Users/dario/opt/anaconda3/envs/dsim/lib/python3.7/site-packages/sklearn/metrics/classification.py:1437: UndefinedMetricWarning: Precision and F-score are ill-defined and being set to 0.0 in labels with no predicted samples.\n",
      "  'precision', 'predicted', average, warn_for)\n"
     ]
    },
    {
     "name": "stdout",
     "output_type": "stream",
     "text": [
      "----------------------------------------------------------------------\n",
      "Addestramento SVC con dati generati tramite la funzione zcr\n",
      "Addestramento completato in 2.651s\n",
      "Addestramento completato in 2.860s\n",
      "Migliore combinazione di parametri:\n",
      " C: 100.0\n",
      " gamma: 0.5\n",
      "Report di classificazione:\n",
      "              precision    recall  f1-score   support\n",
      "\n",
      "           0       0.23      0.53      0.32        17\n",
      "           1       0.20      0.90      0.33        10\n",
      "           2       0.27      0.40      0.32        15\n",
      "           3       0.00      0.00      0.00        19\n",
      "           4       0.00      0.00      0.00        11\n",
      "           5       0.00      0.00      0.00        14\n",
      "           6       0.75      0.64      0.69        14\n",
      "           7       0.25      0.05      0.09        19\n",
      "           8       0.22      0.12      0.15        17\n",
      "           9       0.28      0.36      0.31        14\n",
      "\n",
      "    accuracy                           0.27       150\n",
      "   macro avg       0.22      0.30      0.22       150\n",
      "weighted avg       0.22      0.27      0.21       150\n",
      "\n",
      "Matrice di confusione:\n",
      "[[ 9  5  3  0  0  0  0  0  0  0]\n",
      " [ 1  9  0  0  0  0  0  0  0  0]\n",
      " [ 3  1  6  1  0  0  0  0  2  2]\n",
      " [ 2 14  1  0  0  0  0  0  0  2]\n",
      " [ 4  5  0  0  0  0  0  0  0  2]\n",
      " [ 3  2  4  0  0  0  1  2  0  2]\n",
      " [ 0  2  0  0  0  0  9  1  1  1]\n",
      " [ 5  2  2  0  0  0  2  1  3  4]\n",
      " [ 5  5  5  0  0  0  0  0  2  0]\n",
      " [ 7  0  1  0  0  0  0  0  1  5]]\n"
     ]
    },
    {
     "name": "stderr",
     "output_type": "stream",
     "text": [
      "/Users/dario/opt/anaconda3/envs/dsim/lib/python3.7/site-packages/sklearn/metrics/classification.py:1437: UndefinedMetricWarning: Precision and F-score are ill-defined and being set to 0.0 in labels with no predicted samples.\n",
      "  'precision', 'predicted', average, warn_for)\n"
     ]
    },
    {
     "data": {
      "image/png": "[encoded data removed]",
      "text/plain": [
       "<Figure size 432x288 with 1 Axes>"
      ]
     },
     "metadata": {
      "needs_background": "light"
     },
     "output_type": "display_data"
    }
   ],
   "source": [
    "for i in [\"aavg\", \"sdev\", \"duration\", \"energy\", \"zcr\"]:\n",
    "    # Caricamento dati\n",
    "    X_train, X_test, y_train, y_test = load_data(feature_extractor = eval(i))\n",
    "    # Parametri da provare in cross validation\n",
    "    param_grid = {'C': [1e2, 5e2, 1e3],\n",
    "                  'gamma': [0.005, 0.01, 0.1, 0.5, 1.0], }\n",
    "    \n",
    "    # Inizializzazione Support Vector Machine\n",
    "    clf = GridSearchCV(SVC(kernel='rbf', class_weight='balanced'), param_grid, cv=2)\n",
    "    \n",
    "    print(\"----------------------------------------------------------------------\")\n",
    "    print(\"Addestramento SVC con dati generati tramite la funzione \" + i)\n",
    "    # Addestramento\n",
    "    t0 = time()\n",
    "    clf = clf.fit(X_train, y_train)\n",
    "    print(\"Addestramento completato in %0.3fs\" % (time() - t0))\n",
    "    # Parametri da provare in cross validation\n",
    "    param_grid = {'C': [1e2, 5e2, 1e3],\n",
    "                  'gamma': [0.005, 0.01, 0.1, 0.5, 1.0], }\n",
    "\n",
    "\n",
    "    # Inizializzazione Support Vector Machine\n",
    "    clf = GridSearchCV(SVC(kernel='rbf', class_weight='balanced'), param_grid, cv=2)\n",
    "    \n",
    "    # Addestramento\n",
    "    t0 = time()\n",
    "    clf = clf.fit(X_train, y_train)\n",
    "    print(\"Addestramento completato in %0.3fs\" % (time() - t0))\n",
    "    # Risultato della cross validation per la selezione dei parametri\n",
    "    print(\"Migliore combinazione di parametri:\")\n",
    "    print(\" C: \"+str(clf.best_estimator_.C))\n",
    "    print(\" gamma: \"+str(clf.best_estimator_.gamma))\n",
    "    \n",
    "    # Test\n",
    "    y_pred = clf.predict(X_test)\n",
    "    \n",
    "    # Report di classificazione\n",
    "    print(\"Report di classificazione:\")\n",
    "    print(classification_report(y_test, y_pred))\n",
    "    \n",
    "    # Matrice di confusione\n",
    "    print(\"Matrice di confusione:\")\n",
    "    cm = confusion_matrix(y_test, y_pred)\n",
    "    print(cm)\n",
    "    plt.imshow(cm, cmap=plt.cm.Blues)\n",
    "    "
   ]
  },
  {
   "cell_type": "markdown",
   "metadata": {},
   "source": [
    "Se il segnale viene rappresentato con un'unica feature il classificatore ottiene pessimi risultati. L'accuracy più alta, pari a 0.27, è raggiunta utilizzando lo Zero-crossing rate."
   ]
  },
  {
   "cell_type": "markdown",
   "metadata": {},
   "source": [
    "## Addestramento modello con funzione combo\n",
    "\n",
    "Feature utilizzate: aavg, sdev, duration, energy e zcr"
   ]
  },
  {
   "cell_type": "code",
   "execution_count": 14,
   "metadata": {},
   "outputs": [],
   "source": [
    "# Caricamento dati\n",
    "X_train, X_test, y_train, y_test = load_data(feature_extractor=combo)"
   ]
  },
  {
   "cell_type": "code",
   "execution_count": 15,
   "metadata": {},
   "outputs": [
    {
     "data": {
      "text/plain": [
       "1350"
      ]
     },
     "execution_count": 15,
     "metadata": {},
     "output_type": "execute_result"
    }
   ],
   "source": [
    "# Numero di esempi di training\n",
    "len(X_train)"
   ]
  },
  {
   "cell_type": "code",
   "execution_count": 16,
   "metadata": {},
   "outputs": [
    {
     "data": {
      "text/plain": [
       "(5,)"
      ]
     },
     "execution_count": 16,
     "metadata": {},
     "output_type": "execute_result"
    }
   ],
   "source": [
    "# Cardinalità delle features di training\n",
    "X_train[0].shape"
   ]
  },
  {
   "cell_type": "code",
   "execution_count": 17,
   "metadata": {},
   "outputs": [
    {
     "name": "stdout",
     "output_type": "stream",
     "text": [
      "Addestramento completato in 1.961s\n"
     ]
    }
   ],
   "source": [
    "# Parametri da provare in cross validation\n",
    "param_grid = {'C': [1e2, 5e2, 1e3],\n",
    "          'gamma': [0.005, 0.01, 0.1, 0.5, 1.0], }\n",
    "\n",
    "# Inizializzazione Support Vector Machine\n",
    "clf = GridSearchCV(SVC(kernel='rbf', class_weight='balanced'), param_grid, cv=2)\n",
    "\n",
    "# Addestramento\n",
    "t0 = time()\n",
    "clf = clf.fit(X_train, y_train)\n",
    "print(\"Addestramento completato in %0.3fs\" % (time() - t0))"
   ]
  },
  {
   "cell_type": "code",
   "execution_count": 18,
   "metadata": {},
   "outputs": [
    {
     "name": "stdout",
     "output_type": "stream",
     "text": [
      "Migliore combinazione di parametri:\n",
      " C: 100.0\n",
      " gamma: 0.5\n"
     ]
    }
   ],
   "source": [
    "# Risultato della cross validation per la selezione dei parametri\n",
    "print(\"Migliore combinazione di parametri:\")\n",
    "print(\" C: \"+str(clf.best_estimator_.C))\n",
    "print(\" gamma: \"+str(clf.best_estimator_.gamma))"
   ]
  },
  {
   "cell_type": "markdown",
   "metadata": {},
   "source": [
    "### Test modello combo"
   ]
  },
  {
   "cell_type": "code",
   "execution_count": 19,
   "metadata": {
    "scrolled": true
   },
   "outputs": [
    {
     "name": "stdout",
     "output_type": "stream",
     "text": [
      "Report di classificazione:\n",
      "              precision    recall  f1-score   support\n",
      "\n",
      "           0       0.77      0.59      0.67        17\n",
      "           1       0.47      0.80      0.59        10\n",
      "           2       0.64      0.60      0.62        15\n",
      "           3       0.85      0.58      0.69        19\n",
      "           4       0.44      0.64      0.52        11\n",
      "           5       0.50      0.71      0.59        14\n",
      "           6       0.93      0.93      0.93        14\n",
      "           7       0.78      0.37      0.50        19\n",
      "           8       0.53      0.53      0.53        17\n",
      "           9       0.59      0.71      0.65        14\n",
      "\n",
      "    accuracy                           0.63       150\n",
      "   macro avg       0.65      0.65      0.63       150\n",
      "weighted avg       0.67      0.63      0.63       150\n",
      "\n",
      "Matrice di confusione:\n",
      "[[10  0  1  0  0  0  0  0  0  6]\n",
      " [ 0  8  0  0  2  0  0  0  0  0]\n",
      " [ 0  1  9  1  0  2  1  0  1  0]\n",
      " [ 0  3  2 11  0  3  0  0  0  0]\n",
      " [ 0  2  1  0  7  1  0  0  0  0]\n",
      " [ 0  0  0  0  3 10  0  1  0  0]\n",
      " [ 0  0  0  0  0  0 13  0  1  0]\n",
      " [ 0  1  0  0  2  2  0  7  6  1]\n",
      " [ 0  2  1  1  1  2  0  1  9  0]\n",
      " [ 3  0  0  0  1  0  0  0  0 10]]\n"
     ]
    },
    {
     "data": {
      "text/plain": [
       "<matplotlib.image.AxesImage at 0x1c22cef890>"
      ]
     },
     "execution_count": 19,
     "metadata": {},
     "output_type": "execute_result"
    },
    {
     "data": {
      "image/png": "[encoded data removed]",
      "text/plain": [
       "<Figure size 432x288 with 1 Axes>"
      ]
     },
     "metadata": {
      "needs_background": "light"
     },
     "output_type": "display_data"
    }
   ],
   "source": [
    "# Test\n",
    "y_pred = clf.predict(X_test)\n",
    "\n",
    "# Report di classificazione\n",
    "print(\"Report di classificazione:\")\n",
    "print(classification_report(y_test, y_pred))\n",
    "\n",
    "# Matrice di confusione\n",
    "print(\"Matrice di confusione:\")\n",
    "cm = confusion_matrix(y_test, y_pred)\n",
    "print(cm)\n",
    "plt.imshow(cm, cmap=plt.cm.Blues)"
   ]
  },
  {
   "cell_type": "markdown",
   "metadata": {},
   "source": [
    "Come è possibile osservare combinando le diverse feature il classificato riesce a raggiungere risultati discreti. L'accuracy, infatti, è pari a 0.63."
   ]
  }
 ],
 "metadata": {
  "kernelspec": {
   "display_name": "Python 3",
   "language": "python",
   "name": "python3"
  },
  "language_info": {
   "codemirror_mode": {
    "name": "ipython",
    "version": 3
   },
   "file_extension": ".py",
   "mimetype": "text/x-python",
   "name": "python",
   "nbconvert_exporter": "python",
   "pygments_lexer": "ipython3",
   "version": "3.7.5"
  },
  "varInspector": {
   "cols": {
    "lenName": 16,
    "lenType": 16,
    "lenVar": 40
   },
   "kernels_config": {
    "python": {
     "delete_cmd_postfix": "",
     "delete_cmd_prefix": "del ",
     "library": "var_list.py",
     "varRefreshCmd": "print(var_dic_list())"
    },
    "r": {
     "delete_cmd_postfix": ") ",
     "delete_cmd_prefix": "rm(",
     "library": "var_list.r",
     "varRefreshCmd": "cat(var_dic_list()) "
    }
   },
   "position": {
    "height": "293.212px",
    "left": "1230px",
    "right": "20px",
    "top": "120px",
    "width": "350px"
   },
   "types_to_exclude": [
    "module",
    "function",
    "builtin_function_or_method",
    "instance",
    "_Feature"
   ],
   "window_display": false
  }
 },
 "nbformat": 4,
 "nbformat_minor": 2
}
